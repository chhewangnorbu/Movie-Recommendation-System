import nbformat as nbf

nb = nbf.v4.new_notebook()

# Markdown cell
nb.cells.append(nbf.v4.new_markdown_cell("# 🎬 Movie Recommendation System\nThis notebook suggests movies based on your favorite movie."))

# Code cell (full project code)
code = """
import numpy as np
import pandas as pd
import difflib
from sklearn.feature_extraction.text import TfidfVectorizer
from sklearn.metrics.pairwise import cosine_similarity

DATA_PATH = "data/movies.csv"

def load_and_preprocess(path=DATA_PATH):
    movies_data = pd.read_csv(path)
    selected_features = ['genres', 'keywords', 'tagline', 'cast', 'director']
    for feature in selected_features:
        if feature not in movies_data.columns:
            movies_data[feature] = ''
        movies_data[feature] = movies_data[feature].fillna('')
    combined_features = (movies_data['genres'].astype(str) + ' ' +
                         movies_data['keywords'].astype(str) + ' ' +
                         movies_data['tagline'].astype(str) + ' ' +
                         movies_data['cast'].astype(str) + ' ' +
                         movies_data['director'].astype(str))
    return movies_data, combined_features

def build_similarity_matrix(combined_features):
    vectorizer = TfidfVectorizer()
    feature_vectors = vectorizer.fit_transform(combined_features)
    similarity = cosine_similarity(feature_vectors)
    return similarity

def recommend_movies(movies_data, similarity, movie_name, top_n=10):
    list_of_all_titles = movies_data['title'].astype(str).tolist()
    find_close_match = difflib.get_close_matches(movie_name, list_of_all_titles)
    if not find_close_match:
        print(f"No match found for '{movie_name}'")
        return []
    close_match = find_close_match[0]
    index_of_the_movie = movies_data[movies_data.title == close_match].index[0]
    similarity_score = list(enumerate(similarity[index_of_the_movie]))
    sorted_similar_movies = sorted(similarity_score, key=lambda x: x[1], reverse=True)
    recommended = [movies_data.iloc[movie[0]]['title'] for movie in sorted_similar_movies[1:top_n+1]]
    print(f"Movies suggested for you based on '{close_match}':")
    for i, title in enumerate(recommended, 1):
        print(f"{i}. {title}")
    return recommended

movies_data, combined_features = load_and_preprocess()
similarity = build_similarity_matrix(combined_features)
movie_name = input("Enter your favourite movie name: ")
recommend_movies(movies_data, similarity, movie_name, top_n=10)
"""

nb.cells.append(nbf.v4.new_code_cell(code))

# Write to notebook file
with open("movie_recommender.ipynb", "w") as f:
    nbf.write(nb, f)

print("Notebook created successfully!")
