{
 "nbformat": 5,
 "nbformat_minor": 10,
 "metadata": {
  "kernelspec": {
   "name": "python3",
   "display_name": "Python 3"
  },
  "language_info": {
   "name": "python",
   "version": "3.11"
  }
 },
 "cells": [
  {
   "cell_type": "markdown",
   "metadata": {},
   "source": [
    "# 🎬 Movie Recommendation System\n",
    "This notebook allows you to get movie recommendations based on a movie you like."
   ]
  },
  {
   "cell_type": "code",
   "metadata": {},
   "source": [
    "# Importing dependencies\n",
    "import numpy as np\n",
    "import pandas as pd\n",
    "import difflib\n",
    "from sklearn.feature_extraction.text import TfidfVectorizer\n",
    "from sklearn.metrics.pairwise import cosine_similarity"
   ],
   "execution_count": null,
   "outputs": []
  },
  {
   "cell_type": "code",
   "metadata": {},
   "source": [
    "# Load and preprocess dataset\n",
    "DATA_PATH = \"data/movies.csv\"  # Make sure your CSV is here\n",
    "\n",
    "def load_and_preprocess(path=DATA_PATH):\n",
    "    movies_data = pd.read_csv(path)\n",
    "    selected_features = ['genres', 'keywords', 'tagline', 'cast', 'director']\n",
    "\n",
    "    # Replace null values with empty strings\n",
    "    for feature in selected_features:\n",
    "        if feature not in movies_data.columns:\n",
    "            movies_data[feature] = ''\n",
    "        movies_data[feature] = movies_data[feature].fillna('')\n",
    "\n",
    "    # Combine selected features into a single string\n",
    "    combined_features = (\n",
    "        movies_data['genres'].astype(str) + ' ' +\n",
    "        movies_data['keywords'].astype(str) + ' ' +\n",
    "        movies_data['tagline'].astype(str) + ' ' +\n",
    "        movies_data['cast'].astype(str) + ' ' +\n",
    "        movies_data['director'].astype(str)\n",
    "    )\n",
    "\n",
    "    return movies_data, combined_features"
   ],
   "execution_count": null,
   "outputs": []
  },
  {
   "cell_type": "code",
   "metadata": {},
   "source": [
    "# Build similarity matrix\n",
    "def build_similarity_matrix(combined_features):\n",
    "    vectorizer = TfidfVectorizer()\n",
    "    feature_vectors = vectorizer.fit_transform(combined_features)\n",
    "    similarity = cosine_similarity(feature_vectors)\n",
    "    return similarity"
   ],
   "execution_count": null,
   "outputs": []
  },
  {
   "cell_type": "code",
   "metadata": {},
   "source": [
    "# Recommend movies\n",
    "def recommend_movies(movies_data, similarity, movie_name, top_n=10):\n",
    "    list_of_all_titles = movies_data['title'].astype(str).tolist()\n",
    "    find_close_match = difflib.get_close_matches(movie_name, list_of_all_titles)\n",
    "\n",
    "    if not find_close_match:\n",
    "        print(f\"❌ No match found for '{movie_name}'. Please check the spelling.\")\n",
    "        return []\n",
    "\n",
    "    close_match = find_close_match[0]\n",
    "    index_of_the_movie = movies_data[movies_data.title == close_match].index[0]\n",
    "\n",
    "    similarity_score = list(enumerate(similarity[index_of_the_movie]))\n",
    "    sorted_similar_movies = sorted(similarity_score, key=lambda x: x[1], reverse=True)\n",
    "\n",
    "    recommended = []\n",
    "    for movie in sorted_similar_movies[1:top_n+1]:\n",
    "        index = movie[0]\n",
    "        title_from_index = movies_data.iloc[index]['title']\n",
    "        recommended.append(title_from_index)\n",
    "\n",
    "    print(f\"\\n🎥 Movies suggested for you based on '{close_match}':\\n\")\n",
    "    for i, title in enumerate(recommended, 1):\n",
    "        print(f\"{i}. {title}\")\n",
    "\n",
    "    return recommended"
   ],
   "execution_count": null,
   "outputs": []
  },
  {
   "cell_type": "code",
   "metadata": {},
   "source": [
    "# Run interactively\n",
    "try:\n",
    "    movies_data, combined_features = load_and_preprocess()\n",
    "except FileNotFoundError:\n",
    "    print(\"Could not find 'data/movies.csv'. Please place your dataset file at data/movies.csv and try again.\")\n",
    "    raise\n",
    "\n",
    "similarity = build_similarity_matrix(combined_features)\n",
    "\n",
    "# Example interactive usage\n",
    "movie_name = input(\"Enter your favourite movie name: \")\n",
    "recommend_movies(movies_data, similarity, movie_name, top_n=10)"
   ],
   "execution_count": null,
   "outputs": []
  }
 ]
}
