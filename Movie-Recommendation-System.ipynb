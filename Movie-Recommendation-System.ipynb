# ===============================
# 🎬 MOVIE RECOMMENDATION SYSTEM
# ===============================

# Importing dependencies
import numpy as np
import pandas as pd
import difflib
from sklearn.feature_extraction.text import TfidfVectorizer
from sklearn.metrics.pairwise import cosine_similarity

# -------------------------------
# 1. Load and preprocess dataset
# -------------------------------

DATA_PATH = "/content/movies.csv"  # Replace with your path

# Load data
movies_data = pd.read_csv(DATA_PATH)

# Fill missing values in selected features
selected_features = ['genres', 'keywords', 'tagline', 'cast', 'director']
for feature in selected_features:
    movies_data[feature] = movies_data[feature].fillna('')

# Combine features into a single string
combined_features = (
    movies_data['genres'] + ' ' +
    movies_data['keywords'] + ' ' +
    movies_data['tagline'] + ' ' +
    movies_data['cast'] + ' ' +
    movies_data['director']
)

# -------------------------------
# 2. Convert text to feature vectors
# -------------------------------

vectorizer = TfidfVectorizer()
feature_vectors = vectorizer.fit_transform(combined_features)

# -------------------------------
# 3. Compute similarity matrix
# -------------------------------

similarity = cosine_similarity(feature_vectors)

# -------------------------------
# 4. Function to recommend movies
# -------------------------------

def recommend_movies(movie_name, movies_data, similarity, top_n=30):
    list_of_all_titles = movies_data['title'].tolist()
    find_close_match = difflib.get_close_matches(movie_name, list_of_all_titles)
    
    if not find_close_match:
        print(f"❌ No match found for '{movie_name}'. Please check the spelling.")
        return []
    
    close_match = find_close_match[0]
    index_of_the_movie = movies_data[movies_data.title == close_match].index[0]
    
    similarity_score = list(enumerate(similarity[index_of_the_movie]))
    sorted_similar_movies = sorted(similarity_score, key=lambda x: x[1], reverse=True)
    
    print(f"\n🎥 Movies suggested for you based on '{close_match}':\n")
    
    recommended = []
    i = 1
    for movie in sorted_similar_movies[1:top_n+1]:
        index = movie[0]
        title_from_index = movies_data.iloc[index]['title']
        print(f"{i}. {title_from_index}")
        recommended.append(title_from_index)
        i += 1
    
    return recommended

# -------------------------------
# 5. Run interactively
# -------------------------------

if __name__ == "__main__":
    movie_name = input("Enter your favourite movie name: ")
    recommend_movies(movie_name, movies_data, similarity, top_n=30)
