{
 "nbformat": 5,
 "nbformat_minor": 10,
 "metadata": {
  "kernelspec": {
   "name": "python3",
   "display_name": "Python 3"
  },
  "language_info": {
   "name": "python",
   "version": "3.11"
  }
 },
 "cells": [
  {
   "cell_type": "markdown",
   "metadata": {},
   "source": [
    "# 🎬 Movie Recommendation System (Interactive)\n",
    "Select your favorite movie from the dropdown to get recommendations."
   ]
  },
  {
   "cell_type": "code",
   "metadata": {},
   "source": [
    "# Import dependencies\n",
    "import numpy as np\n",
    "import pandas as pd\n",
    "import difflib\n",
    "from sklearn.feature_extraction.text import TfidfVectorizer\n",
    "from sklearn.metrics.pairwise import cosine_similarity\n",
    "import ipywidgets as widgets\n",
    "from IPython.display import display"
   ],
   "execution_count": null,
   "outputs": []
  },
  {
   "cell_type": "code",
   "metadata": {},
   "source": [
    "# Load and preprocess dataset\n",
    "DATA_PATH = '/content/movies.csv'  # Replace with your CSV path\n",
    "movies_data = pd.read_csv(DATA_PATH)\n",
    "selected_features = ['genres','keywords','tagline','cast','director']\n",
    "for feature in selected_features:\n",
    "    movies_data[feature] = movies_data[feature].fillna('')\n",
    "combined_features = (movies_data['genres'] + ' ' +\n",
    "                     movies_data['keywords'] + ' ' +\n",
    "                     movies_data['tagline'] + ' ' +\n",
    "                     movies_data['cast'] + ' ' +\n",
    "                     movies_data['director'])"
   ],
   "execution_count": null,
   "outputs": []
  },
  {
   "cell_type": "code",
   "metadata": {},
   "source": [
    "# Convert text to vectors and compute similarity\n",
    "vectorizer = TfidfVectorizer()\n",
    "feature_vectors = vectorizer.fit_transform(combined_features)\n",
    "similarity = cosine_similarity(feature_vectors)"
   ],
   "execution_count": null,
   "outputs": []
  },
  {
   "cell_type": "code",
   "metadata": {},
   "source": [
    "# Function to recommend movies\n",
    "def recommend_movies(movie_name, movies_data, similarity, top_n=10):\n",
    "    list_of_all_titles = movies_data['title'].tolist()\n",
    "    find_close_match = difflib.get_close_matches(movie_name, list_of_all_titles)\n",
    "    if not find_close_match:\n",
    "        print(f\"❌ No match found for '{movie_name}'\")\n",
    "        return []\n",
    "    close_match = find_close_match[0]\n",
    "    index_of_the_movie = movies_data[movies_data['title'] == close_match].index[0]\n",
    "    similarity_score = list(enumerate(similarity[index_of_the_movie]))\n",
    "    sorted_similar_movies = sorted(similarity_score, key=lambda x: x[1], reverse=True)\n",
    "    print(f\"\\n🎥 Movies suggested for you based on '{close_match}':\\n\")\n",
    "    for i, movie in enumerate(sorted_similar_movies[1:top_n+1], 1):\n",
    "        index = movie[0]\n",
    "        print(f\"{i}. {movies_data.iloc[index]['title']}\")\n",
    "    return [movies_data.iloc[movie[0]]['title'] for movie in sorted_similar_movies[1:top_n+1]]"
   ],
   "execution_count": null,
   "outputs": []
  },
  {
   "cell_type": "code",
   "metadata": {},
   "source": [
    "# Create dropdown for movie selection\n",
    "movie_dropdown = widgets.Dropdown(\n",
    "    options=movies_data['title'].tolist(),\n",
    "    description='Movie:',\n",
    "    disabled=False,\n",
    "    layout=widgets.Layout(width='70%')\n",
    ")\n",
    "\n",
    "recommend_button = widgets.Button(description=\"Get Recommendations\", button_style='success')\n",
    "\n",
    "output = widgets.Output()\n",
    "\n",
    "def on_button_click(b):\n",
    "    with output:\n",
    "        output.clear_output()\n",
    "        recommend_movies(movie_dropdown.value, movies_data, similarity, top_n=10)\n",
    "\n",
    "recommend_button.on_click(on_button_click)\n",
    "display(movie_dropdown, recommend_button, output)"
   ],
   "execution_count": null,
   "outputs": []
  }
 ]
}
